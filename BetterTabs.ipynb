{
 "cells": [
  {
   "cell_type": "markdown",
   "metadata": {},
   "source": [
    "<div style=\"text-align:center\"><a href=\"https://colab.research.google.com/github/PexMor/jupyter-playground/blob/main/BetterTabs.ipynb\" target=\"_parent\"><img src=\"https://colab.research.google.com/assets/colab-badge.svg\" alt=\"Open In Colab\"/></a>\n",
    "<br/>\n",
    "<a style=\"display:inline-block\" href=\"https://github.com/PexMor/jupyter-playground/blob/main/BetterTabs.ipynb\" target=\"_parent\"><img alt=\"GitHub forks\" src=\"https://img.shields.io/github/forks/PexMor/jupyter-playground?label=fork%20me&logo=github&style=plastic\"></a></div>"
   ]
  },
  {
   "cell_type": "markdown",
   "metadata": {},
   "source": [
    "# Better tables in Jupyter notebooks\n",
    "\n",
    "Purpose of this notebook is to show an option to get beyond the `print` inside Jyputer when producing the tabular content. As the Jupyter is embedded inside HTML and it offers the capability to use HTML for formating among other options then making more visually appealing tables is great option for more legible data formating."
   ]
  },
  {
   "cell_type": "markdown",
   "metadata": {},
   "source": [
    "## The code\n",
    "\n",
    "Let's start with some code hygiene, capture versions and environment so anyone reading this has better starting position."
   ]
  },
  {
   "cell_type": "code",
   "execution_count": 1,
   "metadata": {},
   "outputs": [],
   "source": [
    "!pip -q install watermark tabulate"
   ]
  },
  {
   "cell_type": "code",
   "execution_count": 2,
   "metadata": {},
   "outputs": [],
   "source": [
    "import watermark\n",
    "\n",
    "%load_ext watermark"
   ]
  },
  {
   "cell_type": "markdown",
   "metadata": {},
   "source": [
    "Record the versions into the notebook output"
   ]
  },
  {
   "cell_type": "code",
   "execution_count": 3,
   "metadata": {},
   "outputs": [
    {
     "name": "stdout",
     "output_type": "stream",
     "text": [
      "Python implementation: CPython\n",
      "Python version       : 3.9.6\n",
      "IPython version      : 7.25.0\n",
      "\n",
      "Compiler    : Clang 12.0.5 (clang-1205.0.22.9)\n",
      "OS          : Darwin\n",
      "Release     : 20.6.0\n",
      "Machine     : x86_64\n",
      "Processor   : i386\n",
      "CPU cores   : 8\n",
      "Architecture: 64bit\n",
      "\n",
      "watermark: 2.2.0\n",
      "\n"
     ]
    }
   ],
   "source": [
    "%watermark -i -n -v -m -iv"
   ]
  },
  {
   "cell_type": "markdown",
   "metadata": {},
   "source": [
    "The core of this notebook is the following class `TabOut` which does the table construction over time (i.e. in loop)."
   ]
  },
  {
   "cell_type": "code",
   "execution_count": 4,
   "metadata": {},
   "outputs": [],
   "source": [
    "from IPython import display\n",
    "import tabulate\n",
    "import datetime\n",
    "class TabOut:\n",
    "    def __init__(self, headers, show_rel_ts = True, show_abs_ts = True):\n",
    "        self.headers = headers\n",
    "        self.show_rel_ts = show_rel_ts\n",
    "        self.show_abs_ts = show_abs_ts\n",
    "        if self.show_rel_ts:\n",
    "            self.headers.append(\"Rel.time[s]\")\n",
    "        if self.show_abs_ts:\n",
    "            self.headers.append(\"Abs.time[s]\")\n",
    "        self.data = []\n",
    "        self.last_ts = self.base_ts = datetime.datetime.now()\n",
    "        \n",
    "    def display(self, row, text = \"In Progress!\"):\n",
    "        loc_row = row.copy()\n",
    "        now_ts = datetime.datetime.now()\n",
    "        dur_rel = (now_ts - self.last_ts).total_seconds()\n",
    "        dur_abs = (now_ts - self.base_ts).total_seconds()\n",
    "        self.last_ts = now_ts\n",
    "        if self.show_rel_ts:\n",
    "            loc_row.append(dur_rel)\n",
    "        if self.show_abs_ts:\n",
    "            loc_row.append(dur_abs)\n",
    "        self.data.append(loc_row)\n",
    "        self.show(text)\n",
    "    \n",
    "    def clear(self):\n",
    "        self.data = []\n",
    "        \n",
    "    def show(self, text):\n",
    "        display.clear_output(wait=True)\n",
    "        html = f\"<h2>{text}</h2>\"\n",
    "        html += tabulate.tabulate(self.data, tablefmt='html',headers=self.headers)\n",
    "        html += f\"<h2>{text}</h2>\"\n",
    "        display.display(display.HTML(html))\n",
    "\n",
    "    def done(self, text = \"Done!\"):\n",
    "        self.show(text)"
   ]
  },
  {
   "cell_type": "markdown",
   "metadata": {},
   "source": [
    "## Demo time"
   ]
  },
  {
   "cell_type": "code",
   "execution_count": 5,
   "metadata": {},
   "outputs": [
    {
     "data": {
      "text/html": [
       "<h2>Done!</h2><table>\n",
       "<thead>\n",
       "<tr><th>Planet  </th><th style=\"text-align: right;\">  R (km)</th><th style=\"text-align: right;\">  mass (x 10^29 kg)</th><th style=\"text-align: right;\">  Rel.time[s]</th><th style=\"text-align: right;\">  Abs.time[s]</th></tr>\n",
       "</thead>\n",
       "<tbody>\n",
       "<tr><td>Sun     </td><td style=\"text-align: right;\">  696000</td><td style=\"text-align: right;\">         1.9891e+09</td><td style=\"text-align: right;\">     6.8e-05 </td><td style=\"text-align: right;\">     6.8e-05 </td></tr>\n",
       "<tr><td>Earth   </td><td style=\"text-align: right;\">    6371</td><td style=\"text-align: right;\">      5973.6       </td><td style=\"text-align: right;\">     0.313822</td><td style=\"text-align: right;\">     0.31389 </td></tr>\n",
       "<tr><td>Moon    </td><td style=\"text-align: right;\">    1737</td><td style=\"text-align: right;\">        73.5       </td><td style=\"text-align: right;\">     0.306011</td><td style=\"text-align: right;\">     0.619901</td></tr>\n",
       "<tr><td>Mars    </td><td style=\"text-align: right;\">    3390</td><td style=\"text-align: right;\">       641.85      </td><td style=\"text-align: right;\">     0.302768</td><td style=\"text-align: right;\">     0.922669</td></tr>\n",
       "<tr><td>Sun     </td><td style=\"text-align: right;\">  696000</td><td style=\"text-align: right;\">         1.9891e+09</td><td style=\"text-align: right;\">     0.308229</td><td style=\"text-align: right;\">     1.2309  </td></tr>\n",
       "<tr><td>Earth   </td><td style=\"text-align: right;\">    6371</td><td style=\"text-align: right;\">      5973.6       </td><td style=\"text-align: right;\">     0.308771</td><td style=\"text-align: right;\">     1.53967 </td></tr>\n",
       "<tr><td>Moon    </td><td style=\"text-align: right;\">    1737</td><td style=\"text-align: right;\">        73.5       </td><td style=\"text-align: right;\">     0.30959 </td><td style=\"text-align: right;\">     1.84926 </td></tr>\n",
       "<tr><td>Mars    </td><td style=\"text-align: right;\">    3390</td><td style=\"text-align: right;\">       641.85      </td><td style=\"text-align: right;\">     0.30884 </td><td style=\"text-align: right;\">     2.1581  </td></tr>\n",
       "<tr><td>Sun     </td><td style=\"text-align: right;\">  696000</td><td style=\"text-align: right;\">         1.9891e+09</td><td style=\"text-align: right;\">     0.308263</td><td style=\"text-align: right;\">     2.46636 </td></tr>\n",
       "<tr><td>Earth   </td><td style=\"text-align: right;\">    6371</td><td style=\"text-align: right;\">      5973.6       </td><td style=\"text-align: right;\">     0.309143</td><td style=\"text-align: right;\">     2.7755  </td></tr>\n",
       "<tr><td>Moon    </td><td style=\"text-align: right;\">    1737</td><td style=\"text-align: right;\">        73.5       </td><td style=\"text-align: right;\">     0.311585</td><td style=\"text-align: right;\">     3.08709 </td></tr>\n",
       "<tr><td>Mars    </td><td style=\"text-align: right;\">    3390</td><td style=\"text-align: right;\">       641.85      </td><td style=\"text-align: right;\">     0.307028</td><td style=\"text-align: right;\">     3.39412 </td></tr>\n",
       "<tr><td>Sun     </td><td style=\"text-align: right;\">  696000</td><td style=\"text-align: right;\">         1.9891e+09</td><td style=\"text-align: right;\">     0.307778</td><td style=\"text-align: right;\">     3.7019  </td></tr>\n",
       "<tr><td>Earth   </td><td style=\"text-align: right;\">    6371</td><td style=\"text-align: right;\">      5973.6       </td><td style=\"text-align: right;\">     0.307378</td><td style=\"text-align: right;\">     4.00927 </td></tr>\n",
       "<tr><td>Moon    </td><td style=\"text-align: right;\">    1737</td><td style=\"text-align: right;\">        73.5       </td><td style=\"text-align: right;\">     0.307454</td><td style=\"text-align: right;\">     4.31673 </td></tr>\n",
       "<tr><td>Mars    </td><td style=\"text-align: right;\">    3390</td><td style=\"text-align: right;\">       641.85      </td><td style=\"text-align: right;\">     0.307129</td><td style=\"text-align: right;\">     4.62386 </td></tr>\n",
       "<tr><td>Sun     </td><td style=\"text-align: right;\">  696000</td><td style=\"text-align: right;\">         1.9891e+09</td><td style=\"text-align: right;\">     0.306126</td><td style=\"text-align: right;\">     4.92998 </td></tr>\n",
       "<tr><td>Earth   </td><td style=\"text-align: right;\">    6371</td><td style=\"text-align: right;\">      5973.6       </td><td style=\"text-align: right;\">     0.310921</td><td style=\"text-align: right;\">     5.2409  </td></tr>\n",
       "<tr><td>Moon    </td><td style=\"text-align: right;\">    1737</td><td style=\"text-align: right;\">        73.5       </td><td style=\"text-align: right;\">     0.306508</td><td style=\"text-align: right;\">     5.54741 </td></tr>\n",
       "<tr><td>Mars    </td><td style=\"text-align: right;\">    3390</td><td style=\"text-align: right;\">       641.85      </td><td style=\"text-align: right;\">     0.310916</td><td style=\"text-align: right;\">     5.85833 </td></tr>\n",
       "<tr><td>Sun     </td><td style=\"text-align: right;\">  696000</td><td style=\"text-align: right;\">         1.9891e+09</td><td style=\"text-align: right;\">     0.307925</td><td style=\"text-align: right;\">     6.16625 </td></tr>\n",
       "<tr><td>Earth   </td><td style=\"text-align: right;\">    6371</td><td style=\"text-align: right;\">      5973.6       </td><td style=\"text-align: right;\">     0.310382</td><td style=\"text-align: right;\">     6.47663 </td></tr>\n",
       "<tr><td>Moon    </td><td style=\"text-align: right;\">    1737</td><td style=\"text-align: right;\">        73.5       </td><td style=\"text-align: right;\">     0.308734</td><td style=\"text-align: right;\">     6.78537 </td></tr>\n",
       "<tr><td>Mars    </td><td style=\"text-align: right;\">    3390</td><td style=\"text-align: right;\">       641.85      </td><td style=\"text-align: right;\">     0.313144</td><td style=\"text-align: right;\">     7.09851 </td></tr>\n",
       "<tr><td>Sun     </td><td style=\"text-align: right;\">  696000</td><td style=\"text-align: right;\">         1.9891e+09</td><td style=\"text-align: right;\">     0.310813</td><td style=\"text-align: right;\">     7.40933 </td></tr>\n",
       "<tr><td>Earth   </td><td style=\"text-align: right;\">    6371</td><td style=\"text-align: right;\">      5973.6       </td><td style=\"text-align: right;\">     0.306878</td><td style=\"text-align: right;\">     7.7162  </td></tr>\n",
       "<tr><td>Moon    </td><td style=\"text-align: right;\">    1737</td><td style=\"text-align: right;\">        73.5       </td><td style=\"text-align: right;\">     0.310578</td><td style=\"text-align: right;\">     8.02678 </td></tr>\n",
       "<tr><td>Mars    </td><td style=\"text-align: right;\">    3390</td><td style=\"text-align: right;\">       641.85      </td><td style=\"text-align: right;\">     0.311384</td><td style=\"text-align: right;\">     8.33817 </td></tr>\n",
       "<tr><td>Sun     </td><td style=\"text-align: right;\">  696000</td><td style=\"text-align: right;\">         1.9891e+09</td><td style=\"text-align: right;\">     0.31099 </td><td style=\"text-align: right;\">     8.64916 </td></tr>\n",
       "<tr><td>Earth   </td><td style=\"text-align: right;\">    6371</td><td style=\"text-align: right;\">      5973.6       </td><td style=\"text-align: right;\">     0.30881 </td><td style=\"text-align: right;\">     8.95797 </td></tr>\n",
       "<tr><td>Moon    </td><td style=\"text-align: right;\">    1737</td><td style=\"text-align: right;\">        73.5       </td><td style=\"text-align: right;\">     0.31168 </td><td style=\"text-align: right;\">     9.26965 </td></tr>\n",
       "<tr><td>Mars    </td><td style=\"text-align: right;\">    3390</td><td style=\"text-align: right;\">       641.85      </td><td style=\"text-align: right;\">     0.309278</td><td style=\"text-align: right;\">     9.57892 </td></tr>\n",
       "<tr><td>Sun     </td><td style=\"text-align: right;\">  696000</td><td style=\"text-align: right;\">         1.9891e+09</td><td style=\"text-align: right;\">     0.313168</td><td style=\"text-align: right;\">     9.89209 </td></tr>\n",
       "<tr><td>Earth   </td><td style=\"text-align: right;\">    6371</td><td style=\"text-align: right;\">      5973.6       </td><td style=\"text-align: right;\">     0.310978</td><td style=\"text-align: right;\">    10.2031  </td></tr>\n",
       "<tr><td>Moon    </td><td style=\"text-align: right;\">    1737</td><td style=\"text-align: right;\">        73.5       </td><td style=\"text-align: right;\">     0.310631</td><td style=\"text-align: right;\">    10.5137  </td></tr>\n",
       "<tr><td>Mars    </td><td style=\"text-align: right;\">    3390</td><td style=\"text-align: right;\">       641.85      </td><td style=\"text-align: right;\">     0.306962</td><td style=\"text-align: right;\">    10.8207  </td></tr>\n",
       "<tr><td>Sun     </td><td style=\"text-align: right;\">  696000</td><td style=\"text-align: right;\">         1.9891e+09</td><td style=\"text-align: right;\">     0.312387</td><td style=\"text-align: right;\">    11.1331  </td></tr>\n",
       "<tr><td>Earth   </td><td style=\"text-align: right;\">    6371</td><td style=\"text-align: right;\">      5973.6       </td><td style=\"text-align: right;\">     0.312055</td><td style=\"text-align: right;\">    11.4451  </td></tr>\n",
       "<tr><td>Moon    </td><td style=\"text-align: right;\">    1737</td><td style=\"text-align: right;\">        73.5       </td><td style=\"text-align: right;\">     0.313882</td><td style=\"text-align: right;\">    11.759   </td></tr>\n",
       "<tr><td>Mars    </td><td style=\"text-align: right;\">    3390</td><td style=\"text-align: right;\">       641.85      </td><td style=\"text-align: right;\">     0.309647</td><td style=\"text-align: right;\">    12.0686  </td></tr>\n",
       "</tbody>\n",
       "</table><h2>Done!</h2>"
      ],
      "text/plain": [
       "<IPython.core.display.HTML object>"
      ]
     },
     "metadata": {},
     "output_type": "display_data"
    }
   ],
   "source": [
    "import time\n",
    "table = [[\"Sun\",696000,1989100000],\n",
    "         [\"Earth\",6371,5973.6],\n",
    "         [\"Moon\",1737,73.5],\n",
    "         [\"Mars\",3390,641.85]]\n",
    "out = TabOut(headers=[\"Planet\",\"R (km)\", \"mass (x 10^29 kg)\"])\n",
    "for no in range(len(table)*10):\n",
    "    out.display(table[no%len(table)])\n",
    "    time.sleep(0.3)\n",
    "out.done()"
   ]
  }
 ],
 "metadata": {
  "kernelspec": {
   "display_name": "Python 3 (ipykernel)",
   "language": "python",
   "name": "python3"
  },
  "language_info": {
   "codemirror_mode": {
    "name": "ipython",
    "version": 3
   },
   "file_extension": ".py",
   "mimetype": "text/x-python",
   "name": "python",
   "nbconvert_exporter": "python",
   "pygments_lexer": "ipython3",
   "version": "3.9.6"
  }
 },
 "nbformat": 4,
 "nbformat_minor": 4
}

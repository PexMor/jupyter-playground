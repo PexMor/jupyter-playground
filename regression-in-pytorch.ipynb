{
 "cells": [
  {
   "cell_type": "markdown",
   "metadata": {
    "colab_type": "text",
    "id": "view-in-github"
   },
   "source": [
    "<div style=\"text-align:center\"><a href=\"https://colab.research.google.com/github/PexMor/jupyter-playground/blob/main/regression-in-pytorch.ipynb\" target=\"_parent\"><img src=\"https://colab.research.google.com/assets/colab-badge.svg\" alt=\"Open In Colab\"/></a>\n",
    "<br/>\n",
    "<a style=\"display:inline-block\" href=\"https://github.com/PexMor/jupyter-playground/blob/main/regression-in-pytorch.ipynb\" target=\"_parent\"><img alt=\"GitHub forks\" src=\"https://img.shields.io/github/forks/PexMor/jupyter-playground?label=fork%20me&logo=github&style=plastic\"></a></div>"
   ]
  },
  {
   "cell_type": "markdown",
   "metadata": {
    "id": "oIX4xnrwiFZX"
   },
   "source": [
    "# Regression in PyTorch"
   ]
  },
  {
   "cell_type": "markdown",
   "metadata": {
    "id": "XZJhl8MciFZY"
   },
   "source": [
    "In this notebook, we use the PyTorch **automatic differentiation** library to fit a straight line to data points. Thus, here we use calculus to solve the same regression problem that we used the Moore-Penrose Pseudoinverse to solve in the [*Linear Algebra II* notebook](https://github.com/jonkrohn/ML-foundations/blob/master/notebooks/2-linear-algebra-ii.ipynb)."
   ]
  },
  {
   "cell_type": "code",
   "execution_count": 1,
   "metadata": {},
   "outputs": [],
   "source": [
    "!pip -q install watermark tabulate torch ipywidgets numpy seaborn"
   ]
  },
  {
   "cell_type": "code",
   "execution_count": 2,
   "metadata": {},
   "outputs": [],
   "source": [
    "import watermark\n",
    "%load_ext watermark\n",
    "%gui asyncio"
   ]
  },
  {
   "cell_type": "code",
   "execution_count": 3,
   "metadata": {},
   "outputs": [],
   "source": [
    "import threading\n",
    "from IPython import display\n",
    "import ipywidgets as widgets\n",
    "import time\n",
    "import tabulate\n",
    "import datetime\n",
    "import math\n",
    "import seaborn\n",
    "# original import moved to be captured by watermark\n",
    "import torch\n",
    "import numpy as np\n",
    "import matplotlib.pyplot as plt"
   ]
  },
  {
   "cell_type": "code",
   "execution_count": 4,
   "metadata": {},
   "outputs": [
    {
     "name": "stdout",
     "output_type": "stream",
     "text": [
      "Python implementation: CPython\n",
      "Python version       : 3.9.6\n",
      "IPython version      : 7.25.0\n",
      "\n",
      "Compiler    : Clang 12.0.5 (clang-1205.0.22.9)\n",
      "OS          : Darwin\n",
      "Release     : 20.6.0\n",
      "Machine     : x86_64\n",
      "Processor   : i386\n",
      "CPU cores   : 8\n",
      "Architecture: 64bit\n",
      "\n",
      "numpy     : 1.21.2\n",
      "watermark : 2.2.0\n",
      "torch     : 1.9.0\n",
      "tabulate  : 0.8.9\n",
      "IPython   : 7.25.0\n",
      "ipywidgets: 7.6.3\n",
      "seaborn   : 0.11.2\n",
      "matplotlib: 3.4.2\n",
      "\n"
     ]
    }
   ],
   "source": [
    "%watermark -i -n -v -m -iv"
   ]
  },
  {
   "cell_type": "code",
   "execution_count": 5,
   "metadata": {},
   "outputs": [],
   "source": [
    "class TabOut:\n",
    "    def __init__(self, headers, show_rel_ts = True, show_abs_ts = True, tail_len = 10, display_interval = 2):\n",
    "        self.headers = headers\n",
    "        self.show_rel_ts = show_rel_ts\n",
    "        self.show_abs_ts = show_abs_ts\n",
    "        self.tail_len = tail_len\n",
    "        self.display_interval = display_interval\n",
    "        if self.show_rel_ts:\n",
    "            self.headers.append(\"Rel.time[s]\")\n",
    "        if self.show_abs_ts:\n",
    "            self.headers.append(\"Abs.time[s]\")\n",
    "        self.data = []\n",
    "        self.last_show_ts = self.last_ts = self.base_ts = datetime.datetime.now()\n",
    "        \n",
    "    def display(self, row, text = \"In Progress!\", progress = -1.0):\n",
    "        loc_row = row.copy()\n",
    "        now_ts = datetime.datetime.now()\n",
    "        dur_rel = (now_ts - self.last_ts).total_seconds()\n",
    "        dur_abs = (now_ts - self.base_ts).total_seconds()\n",
    "        self.last_ts = now_ts\n",
    "        if self.show_rel_ts:\n",
    "            loc_row.append(dur_rel)\n",
    "        if self.show_abs_ts:\n",
    "            loc_row.append(dur_abs)\n",
    "        self.data.append(loc_row)\n",
    "        delta_show = (now_ts - self.last_show_ts).total_seconds()\n",
    "        if delta_show > self.display_interval:\n",
    "            self.last_show_ts = now_ts\n",
    "            self.show(text,progress)\n",
    "        \n",
    "    def get_data(self):\n",
    "        return self.data\n",
    "    \n",
    "    def clear(self):\n",
    "        self.data = []\n",
    "        \n",
    "    def show(self, text, progress = -1.0):\n",
    "        display.clear_output(wait=False)\n",
    "        html = f\"<h2>{text}</h2>\"\n",
    "        if self.tail_len > 0:\n",
    "            html += tabulate.tabulate(self.data[-self.tail_len:], tablefmt='html',headers=self.headers)\n",
    "        else:\n",
    "            html += tabulate.tabulate(self.data[-self.tail_len:], tablefmt='html',headers=self.headers)\n",
    "        html += f\"<h2>{text}</h2>\"\n",
    "        display.display(display.HTML(html))\n",
    "\n",
    "    def done(self, text = \"Done!\", show_all = False):\n",
    "        if show_all:\n",
    "            self.tail_len = -1\n",
    "        self.show(text)"
   ]
  },
  {
   "cell_type": "code",
   "execution_count": 6,
   "metadata": {
    "colab": {
     "base_uri": "https://localhost:8080/"
    },
    "id": "RHG-NNVF09g_",
    "outputId": "9e98615b-e924-4ed1-f766-c294f1f416f4"
   },
   "outputs": [
    {
     "data": {
      "text/plain": [
       "tensor([0., 1., 2., 3., 4., 5., 6., 7.])"
      ]
     },
     "execution_count": 6,
     "metadata": {},
     "output_type": "execute_result"
    }
   ],
   "source": [
    "x = torch.tensor([0, 1, 2, 3, 4, 5, 6, 7.]) # E.g.: Dosage of drug for treating Alzheimer's disease\n",
    "x"
   ]
  },
  {
   "cell_type": "markdown",
   "metadata": {
    "id": "kbPWO45yiFZi"
   },
   "source": [
    "The $y$ values were created using the equation of a line $y = mx + b$. This way, we know what the model parameters to be learned are, say, $m = -0.5$ and $b = 2$. Random, normally-distributed noise has been added to simulate sampling error: "
   ]
  },
  {
   "cell_type": "code",
   "execution_count": 7,
   "metadata": {
    "id": "R6Z0z32d09hA"
   },
   "outputs": [],
   "source": [
    "# y = -0.5*x + 2 + torch.normal(mean=torch.zeros(8), std=0.2)"
   ]
  },
  {
   "cell_type": "markdown",
   "metadata": {
    "id": "jW-52Td409hA"
   },
   "source": [
    "For reproducibility of this demo, here's a fixed example of $y$ values obtained by running the commented-out line above: "
   ]
  },
  {
   "cell_type": "code",
   "execution_count": 8,
   "metadata": {
    "colab": {
     "base_uri": "https://localhost:8080/"
    },
    "id": "mntwNZyB09hA",
    "outputId": "16be1a61-2f84-4050-d809-8af44a3f1d20"
   },
   "outputs": [
    {
     "data": {
      "text/plain": [
       "tensor([ 1.8600,  1.3100,  0.6200,  0.3300,  0.0900, -0.6700, -1.2300, -1.3700])"
      ]
     },
     "execution_count": 8,
     "metadata": {},
     "output_type": "execute_result"
    }
   ],
   "source": [
    "y = torch.tensor([1.86, 1.31, .62, .33, .09, -.67, -1.23, -1.37]) # E.g.: Patient's \"forgetfulness score\"\n",
    "y"
   ]
  },
  {
   "cell_type": "code",
   "execution_count": 9,
   "metadata": {
    "colab": {
     "base_uri": "https://localhost:8080/",
     "height": 295
    },
    "id": "poVitT8409hA",
    "outputId": "29f273f5-cef1-490e-ad59-c38eff516921"
   },
   "outputs": [
    {
     "data": {
      "image/png": "[encoded data removed]",
      "text/plain": [
       "<Figure size 432x288 with 1 Axes>"
      ]
     },
     "metadata": {
      "needs_background": "light"
     },
     "output_type": "display_data"
    }
   ],
   "source": [
    "fig, ax = plt.subplots()\n",
    "plt.title(\"Clinical Trial\")\n",
    "plt.xlabel(\"Drug dosage (mL)\")\n",
    "plt.ylabel(\"Forgetfulness\")\n",
    "_ = ax.scatter(x, y)"
   ]
  },
  {
   "cell_type": "markdown",
   "metadata": {
    "id": "6hl2KtAM09hB"
   },
   "source": [
    "Initialize the slope parameter $m$ with a \"random\" value of 0.9..."
   ]
  },
  {
   "cell_type": "markdown",
   "metadata": {
    "id": "hvAa4nXz09hB"
   },
   "source": [
    "(**N.B.**: In this simple demo, we could guess approximately-correct parameter values to start with. Or, we could use an algebraic (e.g., Moore-Penrose pseudoinverse) or statistical (e.g., ordinary-least-squares regression) to solve for the parameters quickly. This tiny machine learning demo with two parameters and eight data points scales, however, to millions of parameters and millions of data points. The other approaches -- guessing, algebra, statistics -- do not come close to scaling in this way.)"
   ]
  },
  {
   "cell_type": "code",
   "execution_count": 10,
   "metadata": {
    "colab": {
     "base_uri": "https://localhost:8080/"
    },
    "id": "IXY3nd3r09hB",
    "outputId": "20945bd6-5615-47b1-9b26-dc6a36a9fb13"
   },
   "outputs": [
    {
     "data": {
      "text/plain": [
       "tensor([0.9000], requires_grad=True)"
      ]
     },
     "execution_count": 10,
     "metadata": {},
     "output_type": "execute_result"
    }
   ],
   "source": [
    "m = torch.tensor([0.9]).requires_grad_()\n",
    "m"
   ]
  },
  {
   "cell_type": "markdown",
   "metadata": {
    "id": "loz5ja6Z09hB"
   },
   "source": [
    "...and do the same for the $y$-intercept parameter $b$: "
   ]
  },
  {
   "cell_type": "code",
   "execution_count": 11,
   "metadata": {
    "colab": {
     "base_uri": "https://localhost:8080/"
    },
    "id": "ofqXHEGL09hB",
    "outputId": "94dee908-392f-4111-9477-ea777c1bad3f"
   },
   "outputs": [
    {
     "data": {
      "text/plain": [
       "tensor([0.1000], requires_grad=True)"
      ]
     },
     "execution_count": 11,
     "metadata": {},
     "output_type": "execute_result"
    }
   ],
   "source": [
    "b = torch.tensor([0.1]).requires_grad_()\n",
    "b"
   ]
  },
  {
   "cell_type": "code",
   "execution_count": 12,
   "metadata": {
    "id": "BJ1-Rioe09hC"
   },
   "outputs": [],
   "source": [
    "def regression(my_x, my_m, my_b):\n",
    "    return my_m * my_x + my_b"
   ]
  },
  {
   "cell_type": "code",
   "execution_count": 13,
   "metadata": {
    "id": "UbCaQY1R09hC"
   },
   "outputs": [],
   "source": [
    "def regression_plot(my_x, my_y, my_m, my_b):\n",
    "    fig, ax = plt.subplots()\n",
    "\n",
    "    ax.scatter(my_x, my_y)\n",
    "\n",
    "    x_min, x_max = ax.get_xlim()\n",
    "    y_min = regression(x_min, my_m, my_b)\n",
    "    y_max = regression(x_max, my_m, my_b)\n",
    "\n",
    "    ax.set_xlim([x_min, x_max])\n",
    "    ax.plot([x_min, x_max], [float(y_min), float(y_max)])"
   ]
  },
  {
   "cell_type": "code",
   "execution_count": 14,
   "metadata": {
    "colab": {
     "base_uri": "https://localhost:8080/",
     "height": 266
    },
    "id": "9auSbE4A09hC",
    "outputId": "bb06d44e-eab7-4092-b9cc-3ba3f3662c08"
   },
   "outputs": [
    {
     "data": {
      "image/png": "[encoded data removed]",
      "text/plain": [
       "<Figure size 432x288 with 1 Axes>"
      ]
     },
     "metadata": {
      "needs_background": "light"
     },
     "output_type": "display_data"
    }
   ],
   "source": [
    "regression_plot(x, y, m, b)"
   ]
  },
  {
   "cell_type": "markdown",
   "metadata": {
    "id": "tALo3vf_09hC"
   },
   "source": [
    "**Return to slides here if following *Calculus I* class.**"
   ]
  },
  {
   "cell_type": "markdown",
   "metadata": {
    "id": "Ws53tPJF09hC"
   },
   "source": [
    "### Machine Learning\n",
    "In four easy steps :)"
   ]
  },
  {
   "cell_type": "markdown",
   "metadata": {
    "id": "3egph_ZU09hC"
   },
   "source": [
    "**Step 1**: Forward pass"
   ]
  },
  {
   "cell_type": "code",
   "execution_count": 15,
   "metadata": {
    "colab": {
     "base_uri": "https://localhost:8080/"
    },
    "id": "901_nf3f09hC",
    "outputId": "1ffc9f5d-e62b-4c85-e981-0cd595dd6842"
   },
   "outputs": [
    {
     "data": {
      "text/plain": [
       "tensor([0.1000, 1.0000, 1.9000, 2.8000, 3.7000, 4.6000, 5.5000, 6.4000],\n",
       "       grad_fn=<AddBackward0>)"
      ]
     },
     "execution_count": 15,
     "metadata": {},
     "output_type": "execute_result"
    }
   ],
   "source": [
    "yhat = regression(x, m, b)\n",
    "yhat"
   ]
  },
  {
   "cell_type": "markdown",
   "metadata": {
    "id": "AAV5AN8Y09hD"
   },
   "source": [
    "**Step 2**: Compare $\\hat{y}$ with true $y$ to calculate cost $C$"
   ]
  },
  {
   "cell_type": "markdown",
   "metadata": {
    "id": "VIUzVfyIiFZ4"
   },
   "source": [
    "There is a PyTorch `MSELoss` method, but let's define it outselves to see how it works. MSE cost is defined by: $$C = \\frac{1}{n} \\sum_{i=1}^n (\\hat{y_i}-y_i)^2 $$"
   ]
  },
  {
   "cell_type": "code",
   "execution_count": 16,
   "metadata": {
    "id": "sRAbg8lQ09hD"
   },
   "outputs": [],
   "source": [
    "def mse(my_yhat, my_y): \n",
    "    sigma = torch.sum((my_yhat - my_y)**2)\n",
    "    return sigma/len(my_y)"
   ]
  },
  {
   "cell_type": "code",
   "execution_count": 17,
   "metadata": {
    "colab": {
     "base_uri": "https://localhost:8080/"
    },
    "id": "V6I7Cmi409hD",
    "outputId": "99a260f0-a6da-42ac-fe95-2ed7cd407964"
   },
   "outputs": [
    {
     "data": {
      "text/plain": [
       "tensor(19.6755, grad_fn=<DivBackward0>)"
      ]
     },
     "execution_count": 17,
     "metadata": {},
     "output_type": "execute_result"
    }
   ],
   "source": [
    "C = mse(yhat, y)\n",
    "C"
   ]
  },
  {
   "cell_type": "markdown",
   "metadata": {
    "id": "avZjfPNQ09hD"
   },
   "source": [
    "**Step 3**: Use autodiff to calculate gradient of $C$ w.r.t. parameters"
   ]
  },
  {
   "cell_type": "code",
   "execution_count": 18,
   "metadata": {
    "id": "GmouXexF09hE"
   },
   "outputs": [],
   "source": [
    "C.backward()"
   ]
  },
  {
   "cell_type": "code",
   "execution_count": 19,
   "metadata": {
    "colab": {
     "base_uri": "https://localhost:8080/"
    },
    "id": "cOYw5LOV09hE",
    "outputId": "c4ac40f1-b196-4f8d-8b1f-a282a164ee6e"
   },
   "outputs": [
    {
     "data": {
      "text/plain": [
       "tensor([36.3050])"
      ]
     },
     "execution_count": 19,
     "metadata": {},
     "output_type": "execute_result"
    }
   ],
   "source": [
    "m.grad"
   ]
  },
  {
   "cell_type": "code",
   "execution_count": 20,
   "metadata": {
    "colab": {
     "base_uri": "https://localhost:8080/"
    },
    "id": "vyvLxxYy09hE",
    "outputId": "a5f8b407-9632-4a99-cfd1-6190a722e90e"
   },
   "outputs": [
    {
     "data": {
      "text/plain": [
       "tensor([6.2650])"
      ]
     },
     "execution_count": 20,
     "metadata": {},
     "output_type": "execute_result"
    }
   ],
   "source": [
    "b.grad"
   ]
  },
  {
   "cell_type": "markdown",
   "metadata": {
    "id": "iWn_fH0t09hE"
   },
   "source": [
    "**Step 4**: Gradient descent"
   ]
  },
  {
   "cell_type": "code",
   "execution_count": 21,
   "metadata": {
    "id": "-H18htep09hE"
   },
   "outputs": [],
   "source": [
    "optimizer = torch.optim.SGD([m, b], lr=0.01)"
   ]
  },
  {
   "cell_type": "code",
   "execution_count": 22,
   "metadata": {
    "id": "l6Ca-YTp09hE"
   },
   "outputs": [],
   "source": [
    "optimizer.step()"
   ]
  },
  {
   "cell_type": "markdown",
   "metadata": {
    "id": "bfMF3B2709hE"
   },
   "source": [
    "Confirm parameters have been adjusted sensibly: "
   ]
  },
  {
   "cell_type": "code",
   "execution_count": 23,
   "metadata": {
    "colab": {
     "base_uri": "https://localhost:8080/"
    },
    "id": "GOr74kGm09hF",
    "outputId": "bae5f39d-e118-4733-85a9-4aa6209c30ba"
   },
   "outputs": [
    {
     "data": {
      "text/plain": [
       "tensor([0.5369], requires_grad=True)"
      ]
     },
     "execution_count": 23,
     "metadata": {},
     "output_type": "execute_result"
    }
   ],
   "source": [
    "m"
   ]
  },
  {
   "cell_type": "code",
   "execution_count": 24,
   "metadata": {
    "colab": {
     "base_uri": "https://localhost:8080/"
    },
    "id": "Ht7U_2_G09hF",
    "outputId": "d9326071-8746-435a-db78-fc74adf05a60"
   },
   "outputs": [
    {
     "data": {
      "text/plain": [
       "tensor([0.0374], requires_grad=True)"
      ]
     },
     "execution_count": 24,
     "metadata": {},
     "output_type": "execute_result"
    }
   ],
   "source": [
    "b"
   ]
  },
  {
   "cell_type": "code",
   "execution_count": 25,
   "metadata": {
    "colab": {
     "base_uri": "https://localhost:8080/",
     "height": 265
    },
    "id": "qQIUjHPY09hF",
    "outputId": "edc41b23-35ec-49b5-8773-323346b09fc0"
   },
   "outputs": [
    {
     "data": {
      "image/png": "[encoded data removed]",
      "text/plain": [
       "<Figure size 432x288 with 1 Axes>"
      ]
     },
     "metadata": {
      "needs_background": "light"
     },
     "output_type": "display_data"
    }
   ],
   "source": [
    "regression_plot(x, y, m, b)"
   ]
  },
  {
   "cell_type": "markdown",
   "metadata": {
    "id": "mwo0UsoA09hF"
   },
   "source": [
    "We can repeat steps 1 and 2 to confirm cost has decreased: "
   ]
  },
  {
   "cell_type": "code",
   "execution_count": 26,
   "metadata": {
    "colab": {
     "base_uri": "https://localhost:8080/"
    },
    "id": "76e1mVu209hF",
    "outputId": "378ad6ea-3dd1-4f8f-eaf0-a580210221e8"
   },
   "outputs": [
    {
     "data": {
      "text/plain": [
       "tensor(8.5722, grad_fn=<DivBackward0>)"
      ]
     },
     "execution_count": 26,
     "metadata": {},
     "output_type": "execute_result"
    }
   ],
   "source": [
    "C = mse(regression(x, m, b), y)\n",
    "C"
   ]
  },
  {
   "cell_type": "markdown",
   "metadata": {
    "id": "r6dAqwRw09hF"
   },
   "source": [
    "Put the 4 steps in a loop to iteratively minimize cost toward zero: "
   ]
  },
  {
   "cell_type": "code",
   "execution_count": 27,
   "metadata": {
    "colab": {
     "base_uri": "https://localhost:8080/"
    },
    "id": "wejSZX2q09hF",
    "outputId": "614a9599-ec26-4700-f299-7becabdc1381"
   },
   "outputs": [
    {
     "data": {
      "text/html": [
       "<h2>Done!</h2><table>\n",
       "<thead>\n",
       "<tr><th style=\"text-align: right;\">  Epoch</th><th style=\"text-align: right;\">  cost</th><th style=\"text-align: right;\">  m.grad</th><th style=\"text-align: right;\">  b.grad</th><th style=\"text-align: right;\">     m</th><th style=\"text-align: right;\">   b</th><th style=\"text-align: right;\">  Rel.time[s]</th><th style=\"text-align: right;\">  Abs.time[s]</th></tr>\n",
       "</thead>\n",
       "<tbody>\n",
       "<tr><td style=\"text-align: right;\">    990</td><td style=\"text-align: right;\">0.0195</td><td style=\"text-align: right;\">0.000709</td><td style=\"text-align: right;\">-0.00348</td><td style=\"text-align: right;\">-0.468</td><td style=\"text-align: right;\">1.75</td><td style=\"text-align: right;\">     0.000154</td><td style=\"text-align: right;\">     0.173575</td></tr>\n",
       "<tr><td style=\"text-align: right;\">    991</td><td style=\"text-align: right;\">0.0195</td><td style=\"text-align: right;\">0.000704</td><td style=\"text-align: right;\">-0.00346</td><td style=\"text-align: right;\">-0.468</td><td style=\"text-align: right;\">1.75</td><td style=\"text-align: right;\">     0.00016 </td><td style=\"text-align: right;\">     0.173735</td></tr>\n",
       "<tr><td style=\"text-align: right;\">    992</td><td style=\"text-align: right;\">0.0195</td><td style=\"text-align: right;\">0.000701</td><td style=\"text-align: right;\">-0.00344</td><td style=\"text-align: right;\">-0.468</td><td style=\"text-align: right;\">1.75</td><td style=\"text-align: right;\">     0.000154</td><td style=\"text-align: right;\">     0.173889</td></tr>\n",
       "<tr><td style=\"text-align: right;\">    993</td><td style=\"text-align: right;\">0.0195</td><td style=\"text-align: right;\">0.000697</td><td style=\"text-align: right;\">-0.00342</td><td style=\"text-align: right;\">-0.468</td><td style=\"text-align: right;\">1.75</td><td style=\"text-align: right;\">     0.000153</td><td style=\"text-align: right;\">     0.174042</td></tr>\n",
       "<tr><td style=\"text-align: right;\">    994</td><td style=\"text-align: right;\">0.0195</td><td style=\"text-align: right;\">0.000692</td><td style=\"text-align: right;\">-0.0034 </td><td style=\"text-align: right;\">-0.468</td><td style=\"text-align: right;\">1.75</td><td style=\"text-align: right;\">     0.000153</td><td style=\"text-align: right;\">     0.174195</td></tr>\n",
       "<tr><td style=\"text-align: right;\">    995</td><td style=\"text-align: right;\">0.0195</td><td style=\"text-align: right;\">0.000689</td><td style=\"text-align: right;\">-0.00338</td><td style=\"text-align: right;\">-0.468</td><td style=\"text-align: right;\">1.75</td><td style=\"text-align: right;\">     0.000158</td><td style=\"text-align: right;\">     0.174353</td></tr>\n",
       "<tr><td style=\"text-align: right;\">    996</td><td style=\"text-align: right;\">0.0195</td><td style=\"text-align: right;\">0.000685</td><td style=\"text-align: right;\">-0.00337</td><td style=\"text-align: right;\">-0.468</td><td style=\"text-align: right;\">1.75</td><td style=\"text-align: right;\">     0.000156</td><td style=\"text-align: right;\">     0.174509</td></tr>\n",
       "<tr><td style=\"text-align: right;\">    997</td><td style=\"text-align: right;\">0.0195</td><td style=\"text-align: right;\">0.00068 </td><td style=\"text-align: right;\">-0.00335</td><td style=\"text-align: right;\">-0.468</td><td style=\"text-align: right;\">1.75</td><td style=\"text-align: right;\">     0.000155</td><td style=\"text-align: right;\">     0.174664</td></tr>\n",
       "<tr><td style=\"text-align: right;\">    998</td><td style=\"text-align: right;\">0.0195</td><td style=\"text-align: right;\">0.000677</td><td style=\"text-align: right;\">-0.00333</td><td style=\"text-align: right;\">-0.468</td><td style=\"text-align: right;\">1.75</td><td style=\"text-align: right;\">     0.000154</td><td style=\"text-align: right;\">     0.174818</td></tr>\n",
       "<tr><td style=\"text-align: right;\">    999</td><td style=\"text-align: right;\">0.0195</td><td style=\"text-align: right;\">0.000673</td><td style=\"text-align: right;\">-0.00331</td><td style=\"text-align: right;\">-0.468</td><td style=\"text-align: right;\">1.75</td><td style=\"text-align: right;\">     0.000155</td><td style=\"text-align: right;\">     0.174973</td></tr>\n",
       "</tbody>\n",
       "</table><h2>Done!</h2>"
      ],
      "text/plain": [
       "<IPython.core.display.HTML object>"
      ]
     },
     "metadata": {},
     "output_type": "display_data"
    }
   ],
   "source": [
    "epochs = 1000\n",
    "out = TabOut(headers=[\"Epoch\",\"cost\", \"m.grad\", \"b.grad\", \"m\", \"b\"])\n",
    "for epoch in range(epochs):\n",
    "    \n",
    "    optimizer.zero_grad() # Reset gradients to zero; else they accumulate\n",
    "    \n",
    "    yhat = regression(x, m, b) # Step 1\n",
    "    C = mse(yhat, y) # Step 2\n",
    "    \n",
    "    C.backward() # Step 3\n",
    "    optimizer.step() # Step 4\n",
    "    \n",
    "    tab = [epoch, '%.3g' % C.item(), '%.3g' % m.grad.item(), '%.3g' % b.grad.item(), '%.3g' % m.item(), '%.3g' % b.item()]\n",
    "    out.display(tab,progress = epoch/epochs)\n",
    "    # print('Epoch {}, cost {}, m grad {}, b grad {}'.format(epoch, '%.3g' % C.item(), '%.3g' % m.grad.item(), '%.3g' % b.grad.item()))\n",
    "out.done(show_all=False)"
   ]
  },
  {
   "cell_type": "code",
   "execution_count": 28,
   "metadata": {},
   "outputs": [],
   "source": [
    "def work(progress):\n",
    "    total = 100\n",
    "    for i in range(total):\n",
    "        time.sleep(0.1)\n",
    "        progress.value = float(i+1)/total\n",
    "\n",
    "def test_progress_bar():\n",
    "    progress = widgets.FloatProgress(value=0.0, min=0.0, max=1.0)\n",
    "    thread = threading.Thread(target=work, args=(progress,))\n",
    "    display.display(progress)\n",
    "    thread.start()\n",
    "\n",
    "# if the background process would be slow then bakground thread might get useful\n",
    "# commented out not to slow down the execution\n",
    "# test_progress_bar()"
   ]
  },
  {
   "cell_type": "code",
   "execution_count": 29,
   "metadata": {},
   "outputs": [],
   "source": [
    "# we have the data trace in string form\n",
    "# out.get_data()"
   ]
  },
  {
   "cell_type": "code",
   "execution_count": 30,
   "metadata": {},
   "outputs": [
    {
     "data": {
      "image/png": "[encoded data removed]",
      "text/plain": [
       "<Figure size 432x288 with 1 Axes>"
      ]
     },
     "metadata": {
      "needs_background": "light"
     },
     "output_type": "display_data"
    }
   ],
   "source": [
    "trace = out.get_data()\n",
    "no_lines = 20\n",
    "scale = 2.5\n",
    "\n",
    "# https://seaborn.pydata.org/tutorial/color_palettes.html\n",
    "# palette = \"light:#ECC\"\n",
    "# palette = \"rocket_r\"\n",
    "# palette = \"Blues\"\n",
    "palette = \"YlOrBr\"\n",
    "with seaborn.color_palette(palette, n_colors=no_lines):\n",
    "    fig, ax = plt.subplots()\n",
    "    # plot the source data\n",
    "    ax.scatter(x, y, color='#000000')\n",
    "    # get the x limits\n",
    "    x_min, x_max = ax.get_xlim()\n",
    "    ax.set_xlim([x_min, x_max])\n",
    "\n",
    "    def plot(no):\n",
    "        my_m = float(trace[no][4])\n",
    "        my_b = float(trace[no][5])\n",
    "        y_min = x_min * my_m + my_b\n",
    "        y_max = x_max * my_m + my_b\n",
    "        ax.plot([x_min, x_max], [float(y_min), float(y_max)])\n",
    "\n",
    "    samples = [ 0 ]\n",
    "    cnt = 2\n",
    "    no = 1.1\n",
    "    while cnt < no_lines:\n",
    "        samples.append(no)\n",
    "        no = cnt**7\n",
    "        cnt += 1\n",
    "    max_no = samples[-1]\n",
    "    \n",
    "    # normalize the samples no to its scale\n",
    "    for ii in range(len(samples)):\n",
    "        frag = (samples[ii] / max_no)\n",
    "        samples[ii] = math.floor((len(trace)-1) * frag)\n",
    "    \n",
    "    # plot the samples\n",
    "    for no in samples:\n",
    "        plot(no)"
   ]
  },
  {
   "cell_type": "markdown",
   "metadata": {},
   "source": [
    "The progress can also be followed interactively via ipywidget.\n",
    "\n",
    "You can use your mouse or left/down and right/up arrows (eventually PgUp/PgDn for larger steps).\n",
    "\n",
    "This is good for epoch by epoch stepping during initial rapid period."
   ]
  },
  {
   "cell_type": "code",
   "execution_count": 31,
   "metadata": {},
   "outputs": [
    {
     "data": {
      "application/vnd.jupyter.widget-view+json": {
       "model_id": "6b4c9b2331b1453ca297160e66025fcc",
       "version_major": 2,
       "version_minor": 0
      },
      "text/plain": [
       "interactive(children=(IntSlider(value=0, continuous_update=False, description='epoch', max=999), Output(layout…"
      ]
     },
     "metadata": {},
     "output_type": "display_data"
    }
   ],
   "source": [
    "def f(epoch):\n",
    "    global v_epoch\n",
    "    v_epoch = epoch\n",
    "    plt.figure(2)\n",
    "    plt.ylim([-1.5, 2.5])\n",
    "    plt.scatter(x, y, color='#000000')\n",
    "    x_min, x_max = plt.xlim()\n",
    "    plt.xlim([x_min, x_max])\n",
    "    my_m = float(trace[epoch][4])\n",
    "    my_b = float(trace[epoch][5])\n",
    "    y_min = x_min * my_m + my_b\n",
    "    y_max = x_max * my_m + my_b\n",
    "    plt.text(x_min + 0.05,-0.95,f\"${my_m:.3g} = m,slope$\\n${my_b:.3g} = b,intercept$\",{\"ha\":\"left\",\"va\":\"top\"})\n",
    "    plt.plot([x_min, x_max], [float(y_min), float(y_max)],color='#CC9999')\n",
    "    plt.show()\n",
    "\n",
    "# the continuous_update is turned to prevent visual lag, so you have to release mouse on slider to refresh\n",
    "interactive_plot = widgets.interactive(f, epoch=widgets.IntSlider(min=0,max=len(trace)-1,continuous_update=False))\n",
    "output = interactive_plot.children[-1]\n",
    "output.layout.height = '300px'\n",
    "interactive_plot"
   ]
  },
  {
   "cell_type": "markdown",
   "metadata": {},
   "source": [
    "And the final plot alone."
   ]
  },
  {
   "cell_type": "code",
   "execution_count": 32,
   "metadata": {
    "colab": {
     "base_uri": "https://localhost:8080/",
     "height": 265
    },
    "id": "fJeq0EFA09hG",
    "outputId": "2f36219c-7921-456f-db1f-93e0aff1b12e"
   },
   "outputs": [
    {
     "data": {
      "image/png": "[encoded data removed]",
      "text/plain": [
       "<Figure size 432x288 with 1 Axes>"
      ]
     },
     "metadata": {
      "needs_background": "light"
     },
     "output_type": "display_data"
    }
   ],
   "source": [
    "regression_plot(x, y, m, b)"
   ]
  },
  {
   "cell_type": "code",
   "execution_count": 33,
   "metadata": {
    "colab": {
     "base_uri": "https://localhost:8080/"
    },
    "id": "S3B8PB5g09hG",
    "outputId": "99f7324a-22ff-4d27-8254-0802dee14802"
   },
   "outputs": [
    {
     "data": {
      "text/plain": [
       "-0.4681258499622345"
      ]
     },
     "execution_count": 33,
     "metadata": {},
     "output_type": "execute_result"
    }
   ],
   "source": [
    "m.item()"
   ]
  },
  {
   "cell_type": "code",
   "execution_count": 34,
   "metadata": {
    "colab": {
     "base_uri": "https://localhost:8080/"
    },
    "id": "yYaCN83C09hG",
    "outputId": "dee7c86d-8f2b-4c33-87b5-8a2bd8dc5c47"
   },
   "outputs": [
    {
     "data": {
      "text/plain": [
       "1.7542961835861206"
      ]
     },
     "execution_count": 34,
     "metadata": {},
     "output_type": "execute_result"
    }
   ],
   "source": [
    "b.item()"
   ]
  },
  {
   "cell_type": "markdown",
   "metadata": {
    "id": "GfoFI9-x09hG"
   },
   "source": [
    "**N.B.**: The model doesn't perfectly approximate the slope (-0.5) and $y$-intercept (2.0) used to simulate the outcomes $y$ at the top of this notebook. This reflects the imperfectness of the sample of eight data points due to adding random noise during the simulation step. In the real world, the best solution would be to sample additional data points: The more data we sample, the more accurate our estimates of the true underlying parameters will be. "
   ]
  }
 ],
 "metadata": {
  "colab": {
   "include_colab_link": true,
   "name": "regression-in-pytorch.ipynb",
   "provenance": []
  },
  "kernelspec": {
   "display_name": "Python 3 (ipykernel)",
   "language": "python",
   "name": "python3"
  },
  "language_info": {
   "codemirror_mode": {
    "name": "ipython",
    "version": 3
   },
   "file_extension": ".py",
   "mimetype": "text/x-python",
   "name": "python",
   "nbconvert_exporter": "python",
   "pygments_lexer": "ipython3",
   "version": "3.9.6"
  }
 },
 "nbformat": 4,
 "nbformat_minor": 1
}

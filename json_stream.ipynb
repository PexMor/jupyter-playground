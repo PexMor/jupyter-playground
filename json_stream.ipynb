{
 "cells": [
  {
   "cell_type": "code",
   "execution_count": 1,
   "id": "ee11af16",
   "metadata": {},
   "outputs": [],
   "source": [
    "!pip install -q json_stream"
   ]
  },
  {
   "cell_type": "code",
   "execution_count": 2,
   "id": "e1457350",
   "metadata": {},
   "outputs": [],
   "source": [
    "import json\n",
    "import json_stream\n",
    "import io"
   ]
  },
  {
   "cell_type": "code",
   "execution_count": 3,
   "id": "05dfb399",
   "metadata": {},
   "outputs": [],
   "source": [
    "d1 = {'aaa': 'aaaval', 'bbb': 'bbbval', 'ccc': 'cccval', 'ddd': 'dddval'}\n",
    "d2 = {'aaa': 'aaaval', 'bbb': 'bbbval', 'ccc': 'cccval', 'ddd': {\"aaa-nest\":[\"abc\",\"cde\",\"ifg\"],\"bbb-nest\":\"bbbn\"}}"
   ]
  },
  {
   "cell_type": "code",
   "execution_count": 4,
   "id": "36adc2ee",
   "metadata": {},
   "outputs": [],
   "source": [
    "def visitor(item, path):\n",
    "    print(f\"{item} at path {path}\")"
   ]
  },
  {
   "cell_type": "code",
   "execution_count": 5,
   "id": "5f2294fb",
   "metadata": {},
   "outputs": [],
   "source": [
    "j1 = json.dumps(d1)\n",
    "j1e = j1.encode(\"UTF-8\")\n",
    "j2 = json.dumps(d2)\n",
    "j2e = j2.encode(\"UTF-8\")"
   ]
  },
  {
   "cell_type": "code",
   "execution_count": 6,
   "id": "7a728645",
   "metadata": {},
   "outputs": [],
   "source": [
    "f1 = io.BytesIO(j1e)\n",
    "f2 = io.BytesIO(j2e)"
   ]
  },
  {
   "cell_type": "code",
   "execution_count": 7,
   "id": "40488cc6",
   "metadata": {},
   "outputs": [
    {
     "name": "stdout",
     "output_type": "stream",
     "text": [
      "aaaval at path ('aaa',)\n",
      "bbbval at path ('bbb',)\n",
      "cccval at path ('ccc',)\n",
      "dddval at path ('ddd',)\n"
     ]
    }
   ],
   "source": [
    "x1 = json_stream.visit(f1,visitor)"
   ]
  },
  {
   "cell_type": "code",
   "execution_count": 8,
   "id": "bda181ba",
   "metadata": {},
   "outputs": [
    {
     "name": "stdout",
     "output_type": "stream",
     "text": [
      "aaaval at path ('aaa',)\n",
      "bbbval at path ('bbb',)\n",
      "cccval at path ('ccc',)\n",
      "abc at path ('ddd', 'aaa-nest', 0)\n",
      "cde at path ('ddd', 'aaa-nest', 1)\n",
      "ifg at path ('ddd', 'aaa-nest', 2)\n",
      "bbbn at path ('ddd', 'bbb-nest')\n"
     ]
    }
   ],
   "source": [
    "x2 = json_stream.visit(f2,visitor)"
   ]
  }
 ],
 "metadata": {
  "kernelspec": {
   "display_name": "Python 3 (ipykernel)",
   "language": "python",
   "name": "python3"
  },
  "language_info": {
   "codemirror_mode": {
    "name": "ipython",
    "version": 3
   },
   "file_extension": ".py",
   "mimetype": "text/x-python",
   "name": "python",
   "nbconvert_exporter": "python",
   "pygments_lexer": "ipython3",
   "version": "3.10.4"
  }
 },
 "nbformat": 4,
 "nbformat_minor": 5
}

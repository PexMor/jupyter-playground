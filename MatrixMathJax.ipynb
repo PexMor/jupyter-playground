{
 "cells": [
  {
   "cell_type": "markdown",
   "id": "5056a8a0",
   "metadata": {},
   "source": [
    "# A simple way to display matrices using LaTex/MathJax\n",
    "\n",
    "* [https://www.mathjax.org/](https://www.mathjax.org/)\n",
    "* [MathJax Latex Syntax](https://math.meta.stackexchange.com/questions/5020/mathjax-basic-tutorial-and-quick-reference)"
   ]
  },
  {
   "cell_type": "code",
   "execution_count": 1,
   "id": "8ee073e8",
   "metadata": {},
   "outputs": [],
   "source": [
    "#!pip -q install --user watermark tensorflow numpy pytorch"
   ]
  },
  {
   "cell_type": "code",
   "execution_count": 2,
   "id": "b9114330",
   "metadata": {},
   "outputs": [],
   "source": [
    "from IPython.display import Math\n",
    "from IPython.display import Markdown\n",
    "import tensorflow as tf\n",
    "import torch\n",
    "import numpy as np\n",
    "\n",
    "def to_list(inmat):\n",
    "    mat = inmat\n",
    "    # Pythonify the TensorFlow\n",
    "    if isinstance(inmat,tf.Variable):\n",
    "        mat = inmat.numpy().tolist()\n",
    "    # Pythonify the Numpy and PyTorch\n",
    "    if isinstance(inmat,(torch.Tensor,np.ndarray)):\n",
    "        mat = inmat.tolist()\n",
    "    return mat\n",
    "\n",
    "def sm_md(inmat):\n",
    "    md = \"\"\n",
    "    md += \"\\\\begin{bmatrix}\"\n",
    "    tmp_rows = list()\n",
    "    mat = to_list(inmat)\n",
    "    for rr in range(len(mat)):\n",
    "        tmp_rows.append(\" & \".join([(f'{item:.2f}').rstrip('0').rstrip('.') for item in mat[rr]]))\n",
    "    md += \"\\\\\\\\\".join(tmp_rows)\n",
    "    md += \"\\\\end{bmatrix}\"\n",
    "    return display(Markdown(md))\n",
    "\n",
    "# from IPython.display import Latex\n",
    "\n",
    "def sm(inmat,mname=\"A\"):\n",
    "    latex = \"\"\n",
    "    latex += \"\\\\renewcommand{\\\\vec}[1]{\\\\boldsymbol{#1}}\\n\"\n",
    "    latex += \"\\\\renewcommand{\\\\matrix}[1]{\\\\boldsymbol{\\\\mathrm{#1}}}\\n\"\n",
    "    latex += \"\\\\newcommand{\\\\tensor}[1]{\\\\boldsymbol{\\mathrm{#1}}}\\n\"\n",
    "    latex += \"\\\\boldsymbol{\\\\mathrm{\"+mname+\"}}\"\n",
    "    latex += \" = \\\\begin{bmatrix}\"\n",
    "    mat = to_list(inmat)\n",
    "    tmp_rows = list()\n",
    "    for rr in range(len(mat)):\n",
    "        tmp_rows.append(\" & \".join([(f'{item:.2f}').rstrip('0').rstrip('.') for item in mat[rr]]))\n",
    "    latex += \"\\\\\\\\\".join(tmp_rows)\n",
    "    latex += \"\\\\end{bmatrix}\"\n",
    "    return display(Math(latex))\n",
    "\n",
    "# call as sm([[1,2,3],[4,5,6]],mname=\"V\")"
   ]
  },
  {
   "cell_type": "markdown",
   "id": "8913b9d2",
   "metadata": {},
   "source": [
    "## Define the reference matrices to be used later\n",
    "\n",
    "* simple python nested lists\n",
    "* pythorch matrix made of that plain python\n",
    "* tensorflow matrix made the same way as the pytorch"
   ]
  },
  {
   "cell_type": "code",
   "execution_count": 3,
   "id": "bd8a1342",
   "metadata": {},
   "outputs": [
    {
     "name": "stderr",
     "output_type": "stream",
     "text": [
      "2021-10-20 10:46:53.542989: I tensorflow/core/platform/cpu_feature_guard.cc:142] This TensorFlow binary is optimized with oneAPI Deep Neural Network Library (oneDNN) to use the following CPU instructions in performance-critical operations:  AVX2 FMA\n",
      "To enable them in other operations, rebuild TensorFlow with the appropriate compiler flags.\n"
     ]
    }
   ],
   "source": [
    "py_matrix = [[1,2,3],[4,5,6]]\n",
    "np_matrix = np.matrix(py_matrix)\n",
    "tf_matrix = tf.constant(py_matrix,dtype=float)\n",
    "pytorch_matrix = torch.tensor(py_matrix)"
   ]
  },
  {
   "cell_type": "code",
   "execution_count": 4,
   "id": "ae66a31f",
   "metadata": {},
   "outputs": [
    {
     "data": {
      "text/plain": [
       "[[1, 2, 3], [4, 5, 6]]"
      ]
     },
     "execution_count": 4,
     "metadata": {},
     "output_type": "execute_result"
    }
   ],
   "source": [
    "py_matrix"
   ]
  },
  {
   "cell_type": "code",
   "execution_count": 5,
   "id": "a6eadce7",
   "metadata": {},
   "outputs": [
    {
     "data": {
      "text/plain": [
       "matrix([[1, 2, 3],\n",
       "        [4, 5, 6]])"
      ]
     },
     "execution_count": 5,
     "metadata": {},
     "output_type": "execute_result"
    }
   ],
   "source": [
    "np_matrix"
   ]
  },
  {
   "cell_type": "code",
   "execution_count": 6,
   "id": "2fb3dc28",
   "metadata": {},
   "outputs": [
    {
     "data": {
      "text/plain": [
       "<tf.Tensor: shape=(2, 3), dtype=float32, numpy=\n",
       "array([[1., 2., 3.],\n",
       "       [4., 5., 6.]], dtype=float32)>"
      ]
     },
     "execution_count": 6,
     "metadata": {},
     "output_type": "execute_result"
    }
   ],
   "source": [
    "tf_matrix"
   ]
  },
  {
   "cell_type": "code",
   "execution_count": 7,
   "id": "a2d678dc",
   "metadata": {},
   "outputs": [
    {
     "data": {
      "text/plain": [
       "tensor([[1, 2, 3],\n",
       "        [4, 5, 6]])"
      ]
     },
     "execution_count": 7,
     "metadata": {},
     "output_type": "execute_result"
    }
   ],
   "source": [
    "pytorch_matrix"
   ]
  },
  {
   "cell_type": "markdown",
   "id": "22e874f9",
   "metadata": {},
   "source": [
    "## Improve the display"
   ]
  },
  {
   "cell_type": "code",
   "execution_count": 8,
   "id": "99fcb629",
   "metadata": {},
   "outputs": [
    {
     "data": {
      "text/latex": [
       "$\\displaystyle \\renewcommand{\\vec}[1]{\\boldsymbol{#1}}\n",
       "\\renewcommand{\\matrix}[1]{\\boldsymbol{\\mathrm{#1}}}\n",
       "\\newcommand{\\tensor}[1]{\\boldsymbol{\\mathrm{#1}}}\n",
       "\\boldsymbol{\\mathrm{V}} = \\begin{bmatrix}1 & 2 & 3\\\\4 & 5 & 6\\end{bmatrix}$"
      ],
      "text/plain": [
       "<IPython.core.display.Math object>"
      ]
     },
     "metadata": {},
     "output_type": "display_data"
    }
   ],
   "source": [
    "sm(py_matrix,mname=\"V\")"
   ]
  },
  {
   "cell_type": "code",
   "execution_count": 9,
   "id": "39ce820b",
   "metadata": {},
   "outputs": [
    {
     "data": {
      "text/latex": [
       "$\\displaystyle \\renewcommand{\\vec}[1]{\\boldsymbol{#1}}\n",
       "\\renewcommand{\\matrix}[1]{\\boldsymbol{\\mathrm{#1}}}\n",
       "\\newcommand{\\tensor}[1]{\\boldsymbol{\\mathrm{#1}}}\n",
       "\\boldsymbol{\\mathrm{A}} = \\begin{bmatrix}1 & 2 & 3\\\\4 & 5 & 6\\end{bmatrix}$"
      ],
      "text/plain": [
       "<IPython.core.display.Math object>"
      ]
     },
     "metadata": {},
     "output_type": "display_data"
    }
   ],
   "source": [
    "sm(tf_matrix)"
   ]
  },
  {
   "cell_type": "code",
   "execution_count": 10,
   "id": "bb1d38df",
   "metadata": {},
   "outputs": [
    {
     "data": {
      "text/latex": [
       "$\\displaystyle \\renewcommand{\\vec}[1]{\\boldsymbol{#1}}\n",
       "\\renewcommand{\\matrix}[1]{\\boldsymbol{\\mathrm{#1}}}\n",
       "\\newcommand{\\tensor}[1]{\\boldsymbol{\\mathrm{#1}}}\n",
       "\\boldsymbol{\\mathrm{A}} = \\begin{bmatrix}1 & 2 & 3\\\\4 & 5 & 6\\end{bmatrix}$"
      ],
      "text/plain": [
       "<IPython.core.display.Math object>"
      ]
     },
     "metadata": {},
     "output_type": "display_data"
    }
   ],
   "source": [
    "sm(np_matrix)"
   ]
  },
  {
   "cell_type": "code",
   "execution_count": 11,
   "id": "032824ec",
   "metadata": {},
   "outputs": [
    {
     "data": {
      "text/latex": [
       "$\\displaystyle \\renewcommand{\\vec}[1]{\\boldsymbol{#1}}\n",
       "\\renewcommand{\\matrix}[1]{\\boldsymbol{\\mathrm{#1}}}\n",
       "\\newcommand{\\tensor}[1]{\\boldsymbol{\\mathrm{#1}}}\n",
       "\\boldsymbol{\\mathrm{A}} = \\begin{bmatrix}1 & 2 & 3\\\\4 & 5 & 6\\end{bmatrix}$"
      ],
      "text/plain": [
       "<IPython.core.display.Math object>"
      ]
     },
     "metadata": {},
     "output_type": "display_data"
    }
   ],
   "source": [
    "sm(tf_matrix)"
   ]
  },
  {
   "cell_type": "code",
   "execution_count": 12,
   "id": "afb39b67",
   "metadata": {},
   "outputs": [
    {
     "data": {
      "text/markdown": [
       "\\begin{bmatrix}1 & 2 & 3\\\\4 & 5 & 6\\end{bmatrix}"
      ],
      "text/plain": [
       "<IPython.core.display.Markdown object>"
      ]
     },
     "metadata": {},
     "output_type": "display_data"
    }
   ],
   "source": [
    "sm_md(tf_matrix)"
   ]
  },
  {
   "cell_type": "markdown",
   "id": "6aac9c7e",
   "metadata": {},
   "source": [
    "## How is it done ?\n",
    "\n",
    "The essential functions are `sm` and `sm_md` where the `sm` uses **Latex** rendering while the `sm_md` is using the **Markdown**."
   ]
  }
 ],
 "metadata": {
  "kernelspec": {
   "display_name": "Python 3 (ipykernel)",
   "language": "python",
   "name": "python3"
  },
  "language_info": {
   "codemirror_mode": {
    "name": "ipython",
    "version": 3
   },
   "file_extension": ".py",
   "mimetype": "text/x-python",
   "name": "python",
   "nbconvert_exporter": "python",
   "pygments_lexer": "ipython3",
   "version": "3.9.7"
  }
 },
 "nbformat": 4,
 "nbformat_minor": 5
}

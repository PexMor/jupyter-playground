{
 "cells": [
  {
   "cell_type": "markdown",
   "id": "f4b92ad2",
   "metadata": {},
   "source": [
    "<div style=\"text-align:center\"><a href=\"https://colab.research.google.com/github/PexMor/jupyter-playground/blob/main/PyXel.ipynb\" target=\"_blank\"><img src=\"https://colab.research.google.com/assets/colab-badge.svg\" alt=\"Open In Colab\"/></a>\n",
    "<br/>\n",
    "<a style=\"display:inline-block\" href=\"https://github.com/PexMor/jupyter-playground/blob/main/PyXel.ipynb\" target=\"_blank\"><img alt=\"GitHub forks\" src=\"https://img.shields.io/github/forks/PexMor/jupyter-playground?label=fork%20me&logo=github&style=plastic\"></a></div>"
   ]
  },
  {
   "cell_type": "markdown",
   "id": "27ad826d",
   "metadata": {},
   "source": [
    "# Work with MSExcel in Python"
   ]
  },
  {
   "cell_type": "markdown",
   "id": "7a21a667",
   "metadata": {},
   "source": [
    "Purpose of the notebook is to get familiar with Python's MSExcel library [openpyxl](https://openpyxl.readthedocs.io/en/stable/index.html).\n",
    "\n",
    "Start with getting the dependecies if not yet installed."
   ]
  },
  {
   "cell_type": "code",
   "execution_count": 1,
   "id": "cce53860",
   "metadata": {},
   "outputs": [],
   "source": [
    "!pip -q install watermark openpyxl"
   ]
  },
  {
   "cell_type": "markdown",
   "id": "1115a7de",
   "metadata": {},
   "source": [
    "Import the required modules"
   ]
  },
  {
   "cell_type": "code",
   "execution_count": 2,
   "id": "cdb975da",
   "metadata": {},
   "outputs": [],
   "source": [
    "import openpyxl\n",
    "import openpyxl.utils\n",
    "import openpyxl.worksheet.table"
   ]
  },
  {
   "cell_type": "markdown",
   "id": "9a97b34f",
   "metadata": {},
   "source": [
    "Create the excel workbook in memory"
   ]
  },
  {
   "cell_type": "code",
   "execution_count": 3,
   "id": "9d2eb045",
   "metadata": {},
   "outputs": [],
   "source": [
    "wb = openpyxl.Workbook()"
   ]
  },
  {
   "cell_type": "markdown",
   "id": "076e31a2",
   "metadata": {},
   "source": [
    "set the output filename variable"
   ]
  },
  {
   "cell_type": "code",
   "execution_count": 4,
   "id": "f3a1550f",
   "metadata": {},
   "outputs": [],
   "source": [
    "dest_filename = 'workbook.xlsx'"
   ]
  },
  {
   "cell_type": "markdown",
   "id": "b7f886cf",
   "metadata": {},
   "source": [
    "Get the default active sheet and fill 40 lines up to 600-th column"
   ]
  },
  {
   "cell_type": "code",
   "execution_count": 5,
   "id": "b80db77d",
   "metadata": {},
   "outputs": [],
   "source": [
    "ws1 = wb.active\n",
    "ws1.title = \"range names\"\n",
    "for row in range(1, 40):\n",
    "    ws1.append(range(600))"
   ]
  },
  {
   "cell_type": "markdown",
   "id": "0a6568d5",
   "metadata": {},
   "source": [
    "Create new sheet and set value of cell `F5`"
   ]
  },
  {
   "cell_type": "code",
   "execution_count": 6,
   "id": "01dcab71",
   "metadata": {},
   "outputs": [],
   "source": [
    "ws2 = wb.create_sheet(title=\"Pi\")\n",
    "ws2['F5'] = 3.14"
   ]
  },
  {
   "cell_type": "markdown",
   "id": "a0a65735",
   "metadata": {},
   "source": [
    "Create the third sheet and fill the rows in range `10..20` and cols there in range `27..54` with collumn name"
   ]
  },
  {
   "cell_type": "code",
   "execution_count": 7,
   "id": "a2a78241",
   "metadata": {},
   "outputs": [],
   "source": [
    "ws3 = wb.create_sheet(title=\"Data\")\n",
    "for row in range(10, 20):\n",
    "    for col in range(27, 54):\n",
    "        _ = ws3.cell(column=col, row=row, value=\"{0}{1}\".format(openpyxl.utils.get_column_letter(col),row))"
   ]
  },
  {
   "cell_type": "code",
   "execution_count": 8,
   "id": "924cfe63",
   "metadata": {},
   "outputs": [],
   "source": [
    "def letter_to_index(letter):\n",
    "    \"\"\"Converts a column letter, e.g. \"A\", \"B\", \"AA\", \"BC\" etc. to a zero based\n",
    "    column index.\n",
    "\n",
    "    A becomes 0, B becomes 1, Z becomes 25, AA becomes 26 etc.\n",
    "\n",
    "    Args:\n",
    "        letter (str): The column index letter.\n",
    "    Returns:\n",
    "        The column index as an integer.\n",
    "    \"\"\"\n",
    "    letter = letter.upper()\n",
    "    result = 0\n",
    "\n",
    "    for index, char in enumerate(reversed(letter)):\n",
    "        # Get the ASCII number of the letter and subtract 64 so that A\n",
    "        # corresponds to 1.\n",
    "        num = ord(char) - 64\n",
    "\n",
    "        # Multiply the number with 26 to the power of `index` to get the correct\n",
    "        # value of the letter based on it's index in the string.\n",
    "        final_num = (26 ** index) * num\n",
    "\n",
    "        result += final_num\n",
    "\n",
    "    # Subtract 1 from the result to make it zero-based before returning.\n",
    "    return result - 1"
   ]
  },
  {
   "cell_type": "code",
   "execution_count": 9,
   "id": "20a47437",
   "metadata": {},
   "outputs": [
    {
     "name": "stdout",
     "output_type": "stream",
     "text": [
      "AA10\n",
      "Maximum number of rows : 19\n",
      "Maximum number of rows in a given column : 19\n",
      "row_cnt: 18\n",
      "col_cnt: 52\n"
     ]
    }
   ],
   "source": [
    "print(ws3['AA10'].value)\n",
    "print(\"Maximum number of rows :\",len(list(ws3.rows)))\n",
    "print(\"Maximum number of rows in a given column :\",len(ws3[openpyxl.utils.get_column_letter(10)]))\n",
    "row_cnt = ws3.max_row - 1\n",
    "col_cnt = ws3.max_column - 1\n",
    "print(\"row_cnt:\",row_cnt)\n",
    "print(\"col_cnt:\",col_cnt)"
   ]
  },
  {
   "cell_type": "code",
   "execution_count": 10,
   "id": "bde7753f",
   "metadata": {},
   "outputs": [],
   "source": [
    "ws4 = wb.create_sheet(title=\"Extra\")\n",
    "\n",
    "data = [\n",
    "    ['Apples', 10000, 5000, 8000, 6000],\n",
    "    ['Pears',   2000, 3000, 4000, 5000],\n",
    "    ['Bananas', 6000, 6000, 6500, 6000],\n",
    "    ['Oranges',  500,  300,  200,  700],\n",
    "]\n",
    "\n",
    "# add column headings. NB. these must be strings\n",
    "ws4.append([\"Fruit\", \"2011\", \"2012\", \"2013\", \"2014\"])\n",
    "for row in data:\n",
    "    ws4.append(row)\n",
    "\n",
    "tab = openpyxl.worksheet.table.Table(displayName=\"Table1\", ref=\"A1:E5\")\n",
    "\n",
    "# Add a default style with striped rows and banded columns\n",
    "style = openpyxl.worksheet.table.TableStyleInfo(name=\"TableStyleMedium9\", showFirstColumn=False,\n",
    "                       showLastColumn=False, showRowStripes=True, showColumnStripes=True)\n",
    "tab.tableStyleInfo = style\n",
    "\n",
    "'''\n",
    "Table must be added using ws.add_table() method to avoid duplicate names.\n",
    "Using this method ensures table name is unque through out defined names and all other table name. \n",
    "'''\n",
    "ws4.add_table(tab)"
   ]
  },
  {
   "cell_type": "code",
   "execution_count": 11,
   "id": "bef035aa",
   "metadata": {},
   "outputs": [],
   "source": [
    "wb.save(filename = dest_filename)"
   ]
  },
  {
   "cell_type": "markdown",
   "id": "c4006f1e",
   "metadata": {},
   "source": [
    "Final environment capture"
   ]
  },
  {
   "cell_type": "code",
   "execution_count": 12,
   "id": "a54f921b",
   "metadata": {},
   "outputs": [
    {
     "name": "stdout",
     "output_type": "stream",
     "text": [
      "Last updated: 2021-08-02T13:01:24.397105+02:00\n",
      "\n",
      "Compiler    : Clang 12.0.5 (clang-1205.0.22.9)\n",
      "OS          : Darwin\n",
      "Release     : 20.6.0\n",
      "Machine     : x86_64\n",
      "Processor   : i386\n",
      "CPU cores   : 8\n",
      "Architecture: 64bit\n",
      "\n",
      "openpyxl: 3.0.7\n",
      "\n",
      "Watermark: 2.2.0\n",
      "\n"
     ]
    }
   ],
   "source": [
    "%load_ext watermark\n",
    "%watermark -iv -i -z -u -m -w"
   ]
  }
 ],
 "metadata": {
  "kernelspec": {
   "display_name": "Python 3 (ipykernel)",
   "language": "python",
   "name": "python3"
  },
  "language_info": {
   "codemirror_mode": {
    "name": "ipython",
    "version": 3
   },
   "file_extension": ".py",
   "mimetype": "text/x-python",
   "name": "python",
   "nbconvert_exporter": "python",
   "pygments_lexer": "ipython3",
   "version": "3.9.6"
  }
 },
 "nbformat": 4,
 "nbformat_minor": 5
}
